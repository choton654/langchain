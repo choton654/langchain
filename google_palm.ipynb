{
 "cells": [
  {
   "cell_type": "code",
   "execution_count": 2,
   "metadata": {},
   "outputs": [
    {
     "name": "stderr",
     "output_type": "stream",
     "text": [
      "/Users/subhajitpaul/Desktop/Datascience/langChain_googlepalm/.venv/lib/python3.11/site-packages/tqdm/auto.py:21: TqdmWarning: IProgress not found. Please update jupyter and ipywidgets. See https://ipywidgets.readthedocs.io/en/stable/user_install.html\n",
      "  from .autonotebook import tqdm as notebook_tqdm\n"
     ]
    },
    {
     "name": "stdout",
     "output_type": "stream",
     "text": [
      "**Oh, samosa, my love**\n",
      "**You are so delicious, so flaky**\n",
      "**With your filling of potatoes and peas**\n",
      "**I can't help but eat you**\n"
     ]
    }
   ],
   "source": [
    "from langchain.llms import GooglePalm\n",
    "\n",
    "api_key = \"GOOGLE_PALM_APIKEY\"\n",
    "\n",
    "llm = GooglePalm(google_api_key=api_key, temperature=0.3)\n",
    "poem = llm(\"Write a 4 line poem of my love for samosa\")\n",
    "print(poem)"
   ]
  },
  {
   "cell_type": "code",
   "execution_count": 3,
   "metadata": {},
   "outputs": [
    {
     "data": {
      "text/plain": [
       "10754"
      ]
     },
     "execution_count": 3,
     "metadata": {},
     "output_type": "execute_result"
    }
   ],
   "source": [
    "from langchain.document_loaders.csv_loader import CSVLoader\n",
    "\n",
    "loader = CSVLoader(file_path='final_data.csv',source_column='player')\n",
    "data = loader.load()\n",
    "\n",
    "len(data)"
   ]
  },
  {
   "cell_type": "code",
   "execution_count": 4,
   "metadata": {},
   "outputs": [],
   "source": [
    "from langchain.chains import RetrievalQA\n",
    "\n",
    "\n",
    "from langchain.embeddings import GooglePalmEmbeddings\n",
    "from langchain.llms import GooglePalm"
   ]
  },
  {
   "cell_type": "code",
   "execution_count": 5,
   "metadata": {},
   "outputs": [
    {
     "name": "stdout",
     "output_type": "stream",
     "text": [
      "load INSTRUCTOR_Transformer\n",
      "max_seq_length  512\n"
     ]
    }
   ],
   "source": [
    "from langchain.embeddings import HuggingFaceInstructEmbeddings\n",
    "\n",
    "instruct_embeddings = HuggingFaceInstructEmbeddings()\n"
   ]
  },
  {
   "cell_type": "code",
   "execution_count": 6,
   "metadata": {},
   "outputs": [],
   "source": [
    "from langchain.vectorstores import FAISS\n",
    "\n",
    "vectordb = FAISS.from_documents(documents=data, embedding=instruct_embeddings)\n"
   ]
  },
  {
   "cell_type": "code",
   "execution_count": 7,
   "metadata": {},
   "outputs": [
    {
     "data": {
      "text/plain": [
       "[Document(page_content='player: /casemiro/profil/spieler/16306\\nteam: Manchester United\\nname: Casemiro\\nposition: midfield-DefensiveMidfield\\nheight: 185\\nage: 31\\nappearance: 101\\ngoals: 0.090817356\\nassists: 0.124873865\\nyellow cards: 0.329212916\\nsecond yellow cards: 0\\nred cards: 0.022704339\\ngoals conceded: 0\\nclean sheets: 0\\nminutes played: 7928\\ndays_injured: 174\\ngames_injured: 31\\naward: 23\\ncurrent_value: 50000000\\nhighest_value: 80000000\\nposition_encoded: 3\\nwinger: 0', metadata={'source': '/casemiro/profil/spieler/16306', 'row': 14}),\n",
       " Document(page_content='player: /cesar-ramos/profil/spieler/540306\\nteam: CF Monterrey\\nname: César Ramos\\nposition: Goalkeeper\\nheight: 184\\nage: 22\\nappearance: 42\\ngoals: 0\\nassists: 0\\nyellow cards: 0\\nsecond yellow cards: 0\\nred cards: 0\\ngoals conceded: 1.25\\nclean sheets: 0.240384615\\nminutes played: 3744\\ndays_injured: 0\\ngames_injured: 0\\naward: 0\\ncurrent_value: 200000\\nhighest_value: 200000\\nposition_encoded: 1\\nwinger: 0', metadata={'source': '/cesar-ramos/profil/spieler/540306', 'row': 4565}),\n",
       " Document(page_content='player: /sergi-guardiola/profil/spieler/256429\\nteam: Cádiz CF\\nname: Sergi Guardiola\\nposition: Attack Centre-Forward\\nheight: 185\\nage: 32\\nappearance: 70\\ngoals: 0.311335817\\nassists: 0.047897818\\nyellow cards: 0.143693454\\nsecond yellow cards: 0\\nred cards: 0\\ngoals conceded: 0\\nclean sheets: 0\\nminutes played: 3758\\ndays_injured: 0\\ngames_injured: 0\\naward: 0\\ncurrent_value: 2000000\\nhighest_value: 7500000\\nposition_encoded: 4\\nwinger: 0', metadata={'source': '/sergi-guardiola/profil/spieler/256429', 'row': 1400}),\n",
       " Document(page_content='player: /dani-ceballos/profil/spieler/319745\\nteam: Real Madrid\\nname: Dani Ceballos\\nposition: midfield-CentralMidfield\\nheight: 179\\nage: 26\\nappearance: 64\\ngoals: 0.039525692\\nassists: 0.395256917\\nyellow cards: 0.395256917\\nsecond yellow cards: 0\\nred cards: 0\\ngoals conceded: 0\\nclean sheets: 0\\nminutes played: 2277\\ndays_injured: 295\\ngames_injured: 53\\naward: 14\\ncurrent_value: 12000000\\nhighest_value: 45000000\\nposition_encoded: 3\\nwinger: 0', metadata={'source': '/dani-ceballos/profil/spieler/319745', 'row': 1519})]"
      ]
     },
     "execution_count": 7,
     "metadata": {},
     "output_type": "execute_result"
    }
   ],
   "source": [
    "retriever = vectordb.as_retriever()\n",
    "\n",
    "retriever.get_relevant_documents(\"how many goals from Casemiro ?\")"
   ]
  },
  {
   "cell_type": "code",
   "execution_count": 8,
   "metadata": {},
   "outputs": [],
   "source": [
    "from langchain.chains import RetrievalQA\n",
    "\n",
    "chain = RetrievalQA.from_chain_type(llm=llm,\n",
    "                            chain_type=\"stuff\",\n",
    "                            retriever=retriever,\n",
    "                            input_key=\"query\",\n",
    "                            return_source_documents=True,\n",
    "                            # chain_type_kwargs=chain_type_kwargs\n",
    "                            )"
   ]
  },
  {
   "cell_type": "code",
   "execution_count": 9,
   "metadata": {},
   "outputs": [
    {
     "data": {
      "text/plain": [
       "{'query': 'What is the height of Casemiro ?',\n",
       " 'result': '185',\n",
       " 'source_documents': [Document(page_content='player: /casemiro/profil/spieler/16306\\nteam: Manchester United\\nname: Casemiro\\nposition: midfield-DefensiveMidfield\\nheight: 185\\nage: 31\\nappearance: 101\\ngoals: 0.090817356\\nassists: 0.124873865\\nyellow cards: 0.329212916\\nsecond yellow cards: 0\\nred cards: 0.022704339\\ngoals conceded: 0\\nclean sheets: 0\\nminutes played: 7928\\ndays_injured: 174\\ngames_injured: 31\\naward: 23\\ncurrent_value: 50000000\\nhighest_value: 80000000\\nposition_encoded: 3\\nwinger: 0', metadata={'source': '/casemiro/profil/spieler/16306', 'row': 14}),\n",
       "  Document(page_content='player: /daniel-carvajal/profil/spieler/138927\\nteam: Real Madrid\\nname: Daniel Carvajal\\nposition: Defender Right-Back\\nheight: 173\\nage: 31\\nappearance: 81\\ngoals: 0.015469233\\nassists: 0.139223101\\nyellow cards: 0.216569268\\nsecond yellow cards: 0.015469233\\nred cards: 0\\ngoals conceded: 0\\nclean sheets: 0\\nminutes played: 5818\\ndays_injured: 465\\ngames_injured: 72\\naward: 24\\ncurrent_value: 12000000\\nhighest_value: 60000000\\nposition_encoded: 2\\nwinger: 1', metadata={'source': '/daniel-carvajal/profil/spieler/138927', 'row': 1512}),\n",
       "  Document(page_content='player: /cesar-ramos/profil/spieler/540306\\nteam: CF Monterrey\\nname: César Ramos\\nposition: Goalkeeper\\nheight: 184\\nage: 22\\nappearance: 42\\ngoals: 0\\nassists: 0\\nyellow cards: 0\\nsecond yellow cards: 0\\nred cards: 0\\ngoals conceded: 1.25\\nclean sheets: 0.240384615\\nminutes played: 3744\\ndays_injured: 0\\ngames_injured: 0\\naward: 0\\ncurrent_value: 200000\\nhighest_value: 200000\\nposition_encoded: 1\\nwinger: 0', metadata={'source': '/cesar-ramos/profil/spieler/540306', 'row': 4565}),\n",
       "  Document(page_content='player: /dani-ceballos/profil/spieler/319745\\nteam: Real Madrid\\nname: Dani Ceballos\\nposition: midfield-CentralMidfield\\nheight: 179\\nage: 26\\nappearance: 64\\ngoals: 0.039525692\\nassists: 0.395256917\\nyellow cards: 0.395256917\\nsecond yellow cards: 0\\nred cards: 0\\ngoals conceded: 0\\nclean sheets: 0\\nminutes played: 2277\\ndays_injured: 295\\ngames_injured: 53\\naward: 14\\ncurrent_value: 12000000\\nhighest_value: 45000000\\nposition_encoded: 3\\nwinger: 0', metadata={'source': '/dani-ceballos/profil/spieler/319745', 'row': 1519})]}"
      ]
     },
     "execution_count": 9,
     "metadata": {},
     "output_type": "execute_result"
    }
   ],
   "source": [
    "chain('What is the height of Casemiro ?')"
   ]
  },
  {
   "cell_type": "code",
   "execution_count": 10,
   "metadata": {},
   "outputs": [
    {
     "data": {
      "text/plain": [
       "{'query': 'What is Casemiro position ?',\n",
       " 'result': 'Defensive Midfielder',\n",
       " 'source_documents': [Document(page_content='player: /casemiro/profil/spieler/16306\\nteam: Manchester United\\nname: Casemiro\\nposition: midfield-DefensiveMidfield\\nheight: 185\\nage: 31\\nappearance: 101\\ngoals: 0.090817356\\nassists: 0.124873865\\nyellow cards: 0.329212916\\nsecond yellow cards: 0\\nred cards: 0.022704339\\ngoals conceded: 0\\nclean sheets: 0\\nminutes played: 7928\\ndays_injured: 174\\ngames_injured: 31\\naward: 23\\ncurrent_value: 50000000\\nhighest_value: 80000000\\nposition_encoded: 3\\nwinger: 0', metadata={'source': '/casemiro/profil/spieler/16306', 'row': 14}),\n",
       "  Document(page_content='player: /cesar-ramos/profil/spieler/540306\\nteam: CF Monterrey\\nname: César Ramos\\nposition: Goalkeeper\\nheight: 184\\nage: 22\\nappearance: 42\\ngoals: 0\\nassists: 0\\nyellow cards: 0\\nsecond yellow cards: 0\\nred cards: 0\\ngoals conceded: 1.25\\nclean sheets: 0.240384615\\nminutes played: 3744\\ndays_injured: 0\\ngames_injured: 0\\naward: 0\\ncurrent_value: 200000\\nhighest_value: 200000\\nposition_encoded: 1\\nwinger: 0', metadata={'source': '/cesar-ramos/profil/spieler/540306', 'row': 4565}),\n",
       "  Document(page_content='player: /daniel-carvajal/profil/spieler/138927\\nteam: Real Madrid\\nname: Daniel Carvajal\\nposition: Defender Right-Back\\nheight: 173\\nage: 31\\nappearance: 81\\ngoals: 0.015469233\\nassists: 0.139223101\\nyellow cards: 0.216569268\\nsecond yellow cards: 0.015469233\\nred cards: 0\\ngoals conceded: 0\\nclean sheets: 0\\nminutes played: 5818\\ndays_injured: 465\\ngames_injured: 72\\naward: 24\\ncurrent_value: 12000000\\nhighest_value: 60000000\\nposition_encoded: 2\\nwinger: 1', metadata={'source': '/daniel-carvajal/profil/spieler/138927', 'row': 1512}),\n",
       "  Document(page_content='player: /chris-ramos/profil/spieler/538810\\nteam: Cádiz CF\\nname: Chris Ramos\\nposition: Attack Centre-Forward\\nheight: 190\\nage: 26\\nappearance: 80\\ngoals: 0.23642732\\nassists: 0.078809107\\nyellow cards: 0.204903678\\nsecond yellow cards: 0.015761821\\nred cards: 0\\ngoals conceded: 0\\nclean sheets: 0\\nminutes played: 5710\\ndays_injured: 21\\ngames_injured: 3\\naward: 0\\ncurrent_value: 1500000\\nhighest_value: 1500000\\nposition_encoded: 4\\nwinger: 0', metadata={'source': '/chris-ramos/profil/spieler/538810', 'row': 1402})]}"
      ]
     },
     "execution_count": 10,
     "metadata": {},
     "output_type": "execute_result"
    }
   ],
   "source": [
    "chain('What is Casemiro position ?')"
   ]
  },
  {
   "cell_type": "code",
   "execution_count": 11,
   "metadata": {},
   "outputs": [
    {
     "data": {
      "text/plain": [
       "{'query': 'What is the transfer status of Casemiro in this year ?',\n",
       " 'result': 'Manchester United',\n",
       " 'source_documents': [Document(page_content='player: /casemiro/profil/spieler/16306\\nteam: Manchester United\\nname: Casemiro\\nposition: midfield-DefensiveMidfield\\nheight: 185\\nage: 31\\nappearance: 101\\ngoals: 0.090817356\\nassists: 0.124873865\\nyellow cards: 0.329212916\\nsecond yellow cards: 0\\nred cards: 0.022704339\\ngoals conceded: 0\\nclean sheets: 0\\nminutes played: 7928\\ndays_injured: 174\\ngames_injured: 31\\naward: 23\\ncurrent_value: 50000000\\nhighest_value: 80000000\\nposition_encoded: 3\\nwinger: 0', metadata={'source': '/casemiro/profil/spieler/16306', 'row': 14}),\n",
       "  Document(page_content='player: /daniel-carvajal/profil/spieler/138927\\nteam: Real Madrid\\nname: Daniel Carvajal\\nposition: Defender Right-Back\\nheight: 173\\nage: 31\\nappearance: 81\\ngoals: 0.015469233\\nassists: 0.139223101\\nyellow cards: 0.216569268\\nsecond yellow cards: 0.015469233\\nred cards: 0\\ngoals conceded: 0\\nclean sheets: 0\\nminutes played: 5818\\ndays_injured: 465\\ngames_injured: 72\\naward: 24\\ncurrent_value: 12000000\\nhighest_value: 60000000\\nposition_encoded: 2\\nwinger: 1', metadata={'source': '/daniel-carvajal/profil/spieler/138927', 'row': 1512}),\n",
       "  Document(page_content='player: /dani-ceballos/profil/spieler/319745\\nteam: Real Madrid\\nname: Dani Ceballos\\nposition: midfield-CentralMidfield\\nheight: 179\\nage: 26\\nappearance: 64\\ngoals: 0.039525692\\nassists: 0.395256917\\nyellow cards: 0.395256917\\nsecond yellow cards: 0\\nred cards: 0\\ngoals conceded: 0\\nclean sheets: 0\\nminutes played: 2277\\ndays_injured: 295\\ngames_injured: 53\\naward: 14\\ncurrent_value: 12000000\\nhighest_value: 45000000\\nposition_encoded: 3\\nwinger: 0', metadata={'source': '/dani-ceballos/profil/spieler/319745', 'row': 1519}),\n",
       "  Document(page_content='player: /thomas-lemar/profil/spieler/205562\\nteam: Atlético de Madrid\\nname: Thomas Lemar\\nposition: midfield-AttackingMidfield\\nheight: 171\\nage: 27\\nappearance: 67\\ngoals: 0.125944584\\nassists: 0.226700252\\nyellow cards: 0.100755668\\nsecond yellow cards: 0\\nred cards: 0\\ngoals conceded: 0\\nclean sheets: 0\\nminutes played: 3573\\ndays_injured: 260\\ngames_injured: 46\\naward: 4\\ncurrent_value: 22000000\\nhighest_value: 70000000\\nposition_encoded: 3\\nwinger: 0', metadata={'source': '/thomas-lemar/profil/spieler/205562', 'row': 1498})]}"
      ]
     },
     "execution_count": 11,
     "metadata": {},
     "output_type": "execute_result"
    }
   ],
   "source": [
    "chain('What is the transfer status of Casemiro in this year ?')"
   ]
  },
  {
   "cell_type": "code",
   "execution_count": 12,
   "metadata": {},
   "outputs": [
    {
     "data": {
      "text/plain": [
       "{'query': 'who is the top goal scorer in this year ?',\n",
       " 'result': 'Lionel Messi',\n",
       " 'source_documents': [Document(page_content='player: /lionel-messi/profil/spieler/28003\\nteam: Paris Saint-Germain\\nname: Lionel Messi\\nposition: Attack-RightWinger\\nheight: 170\\nage: 35\\nappearance: 75\\ngoals: 0.44246428\\nassists: 0.483945306\\nyellow cards: 0.013827009\\nsecond yellow cards: 0\\nred cards: 0\\ngoals conceded: 0\\nclean sheets: 0\\nminutes played: 6509\\ndays_injured: 167\\ngames_injured: 30\\naward: 92\\ncurrent_value: 45000000\\nhighest_value: 180000000\\nposition_encoded: 4\\nwinger: 1', metadata={'source': '/lionel-messi/profil/spieler/28003', 'row': 2643}),\n",
       "  Document(page_content='player: /alan-aguerre/profil/spieler/269784\\nteam: Club Atlético Talleres\\nname: Alan Aguerre\\nposition: Goalkeeper\\nheight: 181\\nage: 32\\nappearance: 0\\ngoals: 0\\nassists: 0\\nyellow cards: 0\\nsecond yellow cards: 0\\nred cards: 0\\ngoals conceded: 0\\nclean sheets: 0\\nminutes played: 0\\ndays_injured: 78\\ngames_injured: 11\\naward: 0\\ncurrent_value: 300000\\nhighest_value: 1500000\\nposition_encoded: 1\\nwinger: 0', metadata={'source': '/alan-aguerre/profil/spieler/269784', 'row': 8040}),\n",
       "  Document(page_content='player: /neymar/profil/spieler/68290\\nteam: Paris Saint-Germain\\nname: Neymar\\nposition: Attack-LeftWinger\\nheight: 175\\nage: 31\\nappearance: 57\\ngoals: 0.594882729\\nassists: 0.479744136\\nyellow cards: 0.383795309\\nsecond yellow cards: 0.019189765\\nred cards: 0\\ngoals conceded: 0\\nclean sheets: 0\\nminutes played: 4690\\ndays_injured: 419\\ngames_injured: 67\\naward: 35\\ncurrent_value: 70000000\\nhighest_value: 180000000\\nposition_encoded: 4\\nwinger: 1', metadata={'source': '/neymar/profil/spieler/68290', 'row': 2642}),\n",
       "  Document(page_content='player: /raheem-sterling/profil/spieler/134425\\nteam: Chelsea FC\\nname: Raheem Sterling\\nposition: Attack-LeftWinger\\nheight: 170\\nage: 28\\nappearance: 85\\ngoals: 0.414232608\\nassists: 0.207116304\\nyellow cards: 0.111524164\\nsecond yellow cards: 0\\nred cards: 0\\ngoals conceded: 0\\nclean sheets: 0\\nminutes played: 5649\\ndays_injured: 284\\ngames_injured: 34\\naward: 13\\ncurrent_value: 60000000\\nhighest_value: 160000000\\nposition_encoded: 4\\nwinger: 1', metadata={'source': '/raheem-sterling/profil/spieler/134425', 'row': 527})]}"
      ]
     },
     "execution_count": 12,
     "metadata": {},
     "output_type": "execute_result"
    }
   ],
   "source": [
    "chain('who is the top goal scorer in this year ?')"
   ]
  },
  {
   "cell_type": "code",
   "execution_count": 13,
   "metadata": {},
   "outputs": [
    {
     "data": {
      "text/plain": [
       "{'query': 'who is the best goal keeper in this year ?',\n",
       " 'result': 'Thibaut Courtois',\n",
       " 'source_documents': [Document(page_content='player: /kasper-schmeichel/profil/spieler/16911\\nteam: OGC Nice\\nname: Kasper Schmeichel\\nposition: Goalkeeper\\nheight: 199\\nage: 36\\nappearance: 99\\ngoals: 0\\nassists: 0\\nyellow cards: 0.010033445\\nsecond yellow cards: 0\\nred cards: 0\\ngoals conceded: 1.264214047\\nclean sheets: 0.230769231\\nminutes played: 8970\\ndays_injured: 156\\ngames_injured: 30\\naward: 5\\ncurrent_value: 2500000\\nhighest_value: 12000000\\nposition_encoded: 1\\nwinger: 0', metadata={'source': '/kasper-schmeichel/profil/spieler/16911', 'row': 2187}),\n",
       "  Document(page_content='player: /manuel-neuer/profil/spieler/17259\\nteam: Bayern Munich\\nname: Manuel Neuer\\nposition: Goalkeeper\\nheight: 193\\nage: 37\\nappearance: 55\\ngoals: 0\\nassists: 0\\nyellow cards: 0.018214936\\nsecond yellow cards: 0\\nred cards: 0\\ngoals conceded: 0.947176685\\nclean sheets: 0.382513661\\nminutes played: 4941\\ndays_injured: 724\\ngames_injured: 109\\naward: 36\\ncurrent_value: 7000000\\nhighest_value: 45000000\\nposition_encoded: 1\\nwinger: 0', metadata={'source': '/manuel-neuer/profil/spieler/17259', 'row': 1000}),\n",
       "  Document(page_content='player: /asmir-begovic/profil/spieler/33873\\nteam: Everton FC\\nname: Asmir Begovic\\nposition: Goalkeeper\\nheight: 199\\nage: 35\\nappearance: 10\\ngoals: 0\\nassists: 0\\nyellow cards: 0\\nsecond yellow cards: 0\\nred cards: 0\\ngoals conceded: 1.64516129\\nclean sheets: 0.387096774\\nminutes played: 930\\ndays_injured: 42\\ngames_injured: 7\\naward: 5\\ncurrent_value: 1000000\\nhighest_value: 13000000\\nposition_encoded: 1\\nwinger: 0', metadata={'source': '/asmir-begovic/profil/spieler/33873', 'row': 188}),\n",
       "  Document(page_content='player: /thibaut-courtois/profil/spieler/108390\\nteam: Real Madrid\\nname: Thibaut Courtois\\nposition: Goalkeeper\\nheight: 200\\nage: 31\\nappearance: 101\\ngoals: 0\\nassists: 0\\nyellow cards: 0.019480519\\nsecond yellow cards: 0\\nred cards: 0\\ngoals conceded: 0.925324675\\nclean sheets: 0.37987013\\nminutes played: 9240\\ndays_injured: 183\\ngames_injured: 24\\naward: 18\\ncurrent_value: 45000000\\nhighest_value: 75000000\\nposition_encoded: 1\\nwinger: 0', metadata={'source': '/thibaut-courtois/profil/spieler/108390', 'row': 1504})]}"
      ]
     },
     "execution_count": 13,
     "metadata": {},
     "output_type": "execute_result"
    }
   ],
   "source": [
    "chain('who is the best goal keeper in this year ?')"
   ]
  },
  {
   "cell_type": "code",
   "execution_count": 14,
   "metadata": {},
   "outputs": [
    {
     "data": {
      "text/plain": [
       "{'query': 'how many goals did Thibaut Courtois saved and he is belong to which club ?',\n",
       " 'result': '0.925324675 goals conceded',\n",
       " 'source_documents': [Document(page_content='player: /thibaut-courtois/profil/spieler/108390\\nteam: Real Madrid\\nname: Thibaut Courtois\\nposition: Goalkeeper\\nheight: 200\\nage: 31\\nappearance: 101\\ngoals: 0\\nassists: 0\\nyellow cards: 0.019480519\\nsecond yellow cards: 0\\nred cards: 0\\ngoals conceded: 0.925324675\\nclean sheets: 0.37987013\\nminutes played: 9240\\ndays_injured: 183\\ngames_injured: 24\\naward: 18\\ncurrent_value: 45000000\\nhighest_value: 75000000\\nposition_encoded: 1\\nwinger: 0', metadata={'source': '/thibaut-courtois/profil/spieler/108390', 'row': 1504}),\n",
       "  Document(page_content='player: /thiago-silva/profil/spieler/29241\\nteam: Chelsea FC\\nname: Thiago Silva\\nposition: Defender Centre-Back\\nheight: 181\\nage: 38\\nappearance: 83\\ngoals: 0.038737446\\nassists: 0.051649928\\nyellow cards: 0.090387374\\nsecond yellow cards: 0\\nred cards: 0\\ngoals conceded: 0\\nclean sheets: 0\\nminutes played: 6970\\ndays_injured: 311\\ngames_injured: 58\\naward: 33\\ncurrent_value: 2500000\\nhighest_value: 40000000\\nposition_encoded: 2\\nwinger: 0', metadata={'source': '/thiago-silva/profil/spieler/29241', 'row': 511}),\n",
       "  Document(page_content='player: /tim-krul/profil/spieler/33027\\nteam: Norwich City\\nname: Tim Krul\\nposition: Goalkeeper\\nheight: 193\\nage: 35\\nappearance: 48\\ngoals: 0\\nassists: 0\\nyellow cards: 0.0625\\nsecond yellow cards: 0\\nred cards: 0\\ngoals conceded: 1.729166667\\nclean sheets: 0.229166667\\nminutes played: 4320\\ndays_injured: 795\\ngames_injured: 76\\naward: 5\\ncurrent_value: 600000\\nhighest_value: 9000000\\nposition_encoded: 1\\nwinger: 0', metadata={'source': '/tim-krul/profil/spieler/33027', 'row': 5790}),\n",
       "  Document(page_content='player: /hugo-lloris/profil/spieler/17965\\nteam: Tottenham Hotspur\\nname: Hugo Lloris\\nposition: Goalkeeper\\nheight: 188\\nage: 36\\nappearance: 74\\ngoals: 0\\nassists: 0\\nyellow cards: 0.027088036\\nsecond yellow cards: 0\\nred cards: 0\\ngoals conceded: 1.246049661\\nclean sheets: 0.338600451\\nminutes played: 6645\\ndays_injured: 318\\ngames_injured: 53\\naward: 5\\ncurrent_value: 4000000\\nhighest_value: 30000000\\nposition_encoded: 1\\nwinger: 0', metadata={'source': '/hugo-lloris/profil/spieler/17965', 'row': 478})]}"
      ]
     },
     "execution_count": 14,
     "metadata": {},
     "output_type": "execute_result"
    }
   ],
   "source": [
    "chain('how many goals did Thibaut Courtois saved and he is belong to which club ?')"
   ]
  },
  {
   "cell_type": "code",
   "execution_count": null,
   "metadata": {},
   "outputs": [],
   "source": []
  }
 ],
 "metadata": {
  "kernelspec": {
   "display_name": ".venv",
   "language": "python",
   "name": "python3"
  },
  "language_info": {
   "codemirror_mode": {
    "name": "ipython",
    "version": 3
   },
   "file_extension": ".py",
   "mimetype": "text/x-python",
   "name": "python",
   "nbconvert_exporter": "python",
   "pygments_lexer": "ipython3",
   "version": "3.11.0"
  }
 },
 "nbformat": 4,
 "nbformat_minor": 2
}
